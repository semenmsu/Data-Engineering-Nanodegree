{
 "cells": [
  {
   "cell_type": "markdown",
   "metadata": {
    "editable": true
   },
   "source": [
    "# Part I. ETL Pipeline for Pre-Processing the Files"
   ]
  },
  {
   "cell_type": "markdown",
   "metadata": {
    "editable": true
   },
   "source": [
    "## PLEASE RUN THE FOLLOWING CODE FOR PRE-PROCESSING THE FILES"
   ]
  },
  {
   "cell_type": "markdown",
   "metadata": {
    "editable": true
   },
   "source": [
    "#### Import Python packages "
   ]
  },
  {
   "cell_type": "code",
   "execution_count": 1,
   "metadata": {
    "editable": true
   },
   "outputs": [],
   "source": [
    "# Import Python packages \n",
    "import pandas as pd\n",
    "import cassandra\n",
    "import re\n",
    "import os\n",
    "import glob\n",
    "import numpy as np\n",
    "import json\n",
    "import csv"
   ]
  },
  {
   "cell_type": "markdown",
   "metadata": {
    "editable": true
   },
   "source": [
    "#### Creating list of filepaths to process original event csv data files"
   ]
  },
  {
   "cell_type": "code",
   "execution_count": 2,
   "metadata": {
    "editable": true
   },
   "outputs": [
    {
     "name": "stdout",
     "output_type": "stream",
     "text": [
      "currrent work directory: /home/workspace\n"
     ]
    }
   ],
   "source": [
    "print(\"currrent work directory:\", os.getcwd())\n",
    "filepath = os.getcwd() + '/event_data'\n",
    "file_path_list = glob.glob(os.path.join(filepath,'*.csv')) "
   ]
  },
  {
   "cell_type": "markdown",
   "metadata": {
    "editable": true
   },
   "source": [
    "#### Processing the files to create the data file csv that will be used for Apache Casssandra tables"
   ]
  },
  {
   "cell_type": "code",
   "execution_count": 3,
   "metadata": {
    "editable": true
   },
   "outputs": [],
   "source": [
    "full_data_rows_list = [] \n",
    "    \n",
    "# extract and union data from different csv files\n",
    "for f in file_path_list:\n",
    "    with open(f, 'r', encoding = 'utf8', newline='') as csvfile: \n",
    "        csvreader = csv.reader(csvfile) \n",
    "        next(csvreader) #read header\n",
    "        full_data_rows_list.extend(csvreader)\n",
    "        \n",
    "# creating a smaller event data csv file called event_datafile_full csv that will be used to insert data into the \\\n",
    "# Apache Cassandra tables\n",
    "csv.register_dialect('myDialect', quoting=csv.QUOTE_ALL, skipinitialspace=True)\n",
    "\n",
    "with open('event_datafile_new.csv', 'w', encoding = 'utf8', newline='') as f:\n",
    "    writer = csv.writer(f, dialect='myDialect')\n",
    "    writer.writerow(['artist','firstName','gender','itemInSession','lastName','length',\\\n",
    "                'level','location','sessionId','song','userId'])\n",
    "    for row in full_data_rows_list:\n",
    "        if (row[0] == ''):\n",
    "            continue\n",
    "        writer.writerow((row[0], row[2], row[3], row[4], row[5], row[6], row[7], row[8], row[12], row[13], row[16]))"
   ]
  },
  {
   "cell_type": "code",
   "execution_count": 4,
   "metadata": {
    "editable": true
   },
   "outputs": [
    {
     "name": "stdout",
     "output_type": "stream",
     "text": [
      "6821\n"
     ]
    }
   ],
   "source": [
    "# check the number of rows in your csv file\n",
    "with open('event_datafile_new.csv', 'r', encoding = 'utf8') as f:\n",
    "    print(sum(1 for line in f))"
   ]
  },
  {
   "cell_type": "markdown",
   "metadata": {
    "editable": true
   },
   "source": [
    "# Part II. Complete the Apache Cassandra coding portion of your project. \n",
    "\n",
    "## Now you are ready to work with the CSV file titled <font color=red>event_datafile_new.csv</font>, located within the Workspace directory.  The event_datafile_new.csv contains the following columns: \n",
    "- artist \n",
    "- firstName of user\n",
    "- gender of user\n",
    "- item number in session\n",
    "- last name of user\n",
    "- length of the song\n",
    "- level (paid or free song)\n",
    "- location of the user\n",
    "- sessionId\n",
    "- song title\n",
    "- userId\n",
    "\n",
    "The image below is a screenshot of what the denormalized data should appear like in the <font color=red>**event_datafile_new.csv**</font> after the code above is run:<br>\n",
    "\n",
    "<img src=\"images/image_event_datafile_new.jpg\">"
   ]
  },
  {
   "cell_type": "markdown",
   "metadata": {
    "editable": true
   },
   "source": [
    "## Begin writing your Apache Cassandra code in the cells below"
   ]
  },
  {
   "cell_type": "markdown",
   "metadata": {
    "editable": true
   },
   "source": [
    "#### Creating a Cluster"
   ]
  },
  {
   "cell_type": "code",
   "execution_count": 5,
   "metadata": {
    "editable": true
   },
   "outputs": [],
   "source": [
    "# This should make a connection to a Cassandra instance your local machine \n",
    "# (127.0.0.1)\n",
    "\n",
    "from cassandra.cluster import Cluster\n",
    "cluster = Cluster()\n",
    "\n",
    "# To establish connection and begin executing queries, need a session\n",
    "session = cluster.connect()"
   ]
  },
  {
   "cell_type": "markdown",
   "metadata": {
    "editable": true
   },
   "source": [
    "#### Create Keyspace"
   ]
  },
  {
   "cell_type": "code",
   "execution_count": 6,
   "metadata": {
    "editable": true
   },
   "outputs": [],
   "source": [
    "sparkify_keyspace_create = \"\"\"CREATE KEYSPACE IF NOT EXISTS sparkify \n",
    "                    with REPLICATION = \n",
    "                    { 'class' : %s, 'replication_factor' : %s }\n",
    "                \"\"\"\n",
    "try:\n",
    "    session.execute(sparkify_keyspace_create, (\"SimpleStrategy\", 1))\n",
    "except Exception as e:\n",
    "    print(e)"
   ]
  },
  {
   "cell_type": "markdown",
   "metadata": {
    "editable": true
   },
   "source": [
    "#### Set Keyspace"
   ]
  },
  {
   "cell_type": "code",
   "execution_count": 7,
   "metadata": {
    "editable": true
   },
   "outputs": [],
   "source": [
    "try:\n",
    "    session.set_keyspace('sparkify')\n",
    "except Exception as e:\n",
    "    print(e)"
   ]
  },
  {
   "cell_type": "markdown",
   "metadata": {
    "editable": true
   },
   "source": [
    "### Now we need to create tables to run the following queries. Remember, with Apache Cassandra you model the database tables on the queries you want to run."
   ]
  },
  {
   "cell_type": "markdown",
   "metadata": {
    "editable": true
   },
   "source": [
    "## Create queries to ask the following three questions of the data\n",
    "\n",
    "### 1. Give me the artist, song title and song's length in the music app history that was heard during  sessionId = 338, and itemInSession  = 4\n",
    "\n",
    "\n",
    "### 2. Give me only the following: name of artist, song (sorted by itemInSession) and user (first and last name) for userid = 10, sessionid = 182\n",
    "    \n",
    "\n",
    "### 3. Give me every user name (first and last) in my music app history who listened to the song 'All Hands Against His Own'\n",
    "\n",
    "\n"
   ]
  },
  {
   "cell_type": "markdown",
   "metadata": {
    "editable": true
   },
   "source": [
    "## QUERY 1\n",
    "\n",
    "`\n",
    "Query Description: In this query, I used sessionId as the partition key and itemInSession as my clustering key. Each partition is uniquely identified by sessionId while itemInSession was used to uniquely identify the rows within a partition to sort the data by the value of number items in session .\n",
    "`\n",
    "  \n",
    "  \n",
    "`\n",
    "Example: Give me the artist, song title and song's length in the music app history that was heard during sessionId = 338, and itemInSession = 4\n",
    "`"
   ]
  },
  {
   "cell_type": "markdown",
   "metadata": {
    "editable": true
   },
   "source": [
    "#### preparing data step"
   ]
  },
  {
   "cell_type": "code",
   "execution_count": 8,
   "metadata": {
    "editable": true
   },
   "outputs": [],
   "source": [
    "#create table\n",
    "session_item_table_drop = \"DROP TABLE  IF EXISTS session_item\"\n",
    "session_item_table_create = \"\"\"CREATE TABLE IF NOT EXISTS session_item(\n",
    "                               sessionId int, \n",
    "                               itemInSession int,\n",
    "                               artist text, \n",
    "                               song text, \n",
    "                               length float, \n",
    "                               PRIMARY KEY (sessionId, itemInSession))\"\"\"\n",
    "try:\n",
    "    session.execute(session_item_table_drop)\n",
    "    session.execute(session_item_table_create)\n",
    "except Exception as e:\n",
    "    print(e)\n",
    "\n",
    "# load data\n",
    "session_item_insert = \"INSERT INTO session_item(sessionId, itemInSession, artist, song, length) VALUES (%s, %s, %s, %s, %s)\"\n",
    "\n",
    "file = 'event_datafile_new.csv'\n",
    "with open(file, encoding = 'utf8') as f:\n",
    "    csvreader = csv.reader(f)\n",
    "    header = next(csvreader)\n",
    "    name_to_position={header[position]: position for position in range(len(header))}\n",
    "    for line in csvreader:\n",
    "        session_id = int(line[name_to_position['sessionId']])\n",
    "        item_in_session = int(line[name_to_position['itemInSession']])\n",
    "        artist = line[name_to_position['artist']]\n",
    "        song = line[name_to_position['song']]\n",
    "        length = float(line[name_to_position['length']])\n",
    "        values = (session_id, item_in_session, artist, song, length)\n",
    "        session.execute(session_item_insert, values)"
   ]
  },
  {
   "cell_type": "markdown",
   "metadata": {
    "editable": true
   },
   "source": [
    "#### query step"
   ]
  },
  {
   "cell_type": "code",
   "execution_count": 9,
   "metadata": {
    "editable": true
   },
   "outputs": [
    {
     "name": "stdout",
     "output_type": "stream",
     "text": [
      "Faithless Music Matters (Mark Knight Dub) 495.30731201171875\n"
     ]
    }
   ],
   "source": [
    "# query on table session_item\n",
    "query = \"\"\"SELECT artist, song, length FROM session_item WHERE sessionId = 338 AND itemInSession = 4\"\"\"\n",
    "\n",
    "try:\n",
    "    rows = session.execute(query)\n",
    "except Exception as e:\n",
    "    print(e)\n",
    "    \n",
    "for row in rows:\n",
    "    print( row.artist, row.song, row.length)"
   ]
  },
  {
   "cell_type": "markdown",
   "metadata": {
    "editable": true
   },
   "source": [
    "#### check insertion step"
   ]
  },
  {
   "cell_type": "code",
   "execution_count": 10,
   "metadata": {
    "editable": true,
    "scrolled": true
   },
   "outputs": [
    {
     "name": "stdout",
     "output_type": "stream",
     "text": [
      "session_item number of rows: 6820\n"
     ]
    }
   ],
   "source": [
    "session_item_count = \"SELECT COUNT(*) FROM session_item\"\n",
    "try:\n",
    "    result = session.execute(session_item_count)\n",
    "    print(\"session_item number of rows:\", result[0].count)\n",
    "except Exception as e:\n",
    "    print(e)\n"
   ]
  },
  {
   "cell_type": "markdown",
   "metadata": {
    "editable": true
   },
   "source": [
    "## QUERY 2\n",
    "\n",
    "\n",
    "`\n",
    "Query Description: In this query, I used (sessionId, userId) as the partition key and itemInSession as my clustering key. Each partition is uniquely identified by (sessionId, userId) while itemInSession was used to get them in sorted order.\n",
    "`\n",
    "  \n",
    "`Example: Give me only the following: name of artist, song (sorted by itemInSession) and user (first and last name) for userid = 10, sessionid = 182`\n"
   ]
  },
  {
   "cell_type": "markdown",
   "metadata": {
    "editable": true
   },
   "source": [
    "#### preparing data step"
   ]
  },
  {
   "cell_type": "code",
   "execution_count": 11,
   "metadata": {
    "editable": true
   },
   "outputs": [],
   "source": [
    "#create table\n",
    "user_session_table_drop = \"DROP TABLE IF EXISTS user_session\"\n",
    "user_session_table_create = \"\"\"CREATE TABLE IF NOT EXISTS user_session(\n",
    "                               sessionId int, \n",
    "                               userId int,\n",
    "                               artist text, \n",
    "                               song text, \n",
    "                               firstName text,\n",
    "                               lastName text,\n",
    "                               itemInSession int, \n",
    "                               PRIMARY KEY ((sessionId, userId), itemInSession))\"\"\"\n",
    "try:\n",
    "    session.execute(user_session_table_drop)\n",
    "    session.execute(user_session_table_create)\n",
    "except Exception as e:\n",
    "    print(e)\n",
    "\n",
    "\n",
    "# load data\n",
    "user_session_insert = \"INSERT INTO user_session(sessionId, userId, artist, song, firstName, lastName, itemInSession) VALUES (%s, %s, %s, %s, %s, %s, %s)\"\n",
    "\n",
    "file = 'event_datafile_new.csv'\n",
    "with open(file, encoding = 'utf8') as f:\n",
    "    csvreader = csv.reader(f)\n",
    "    header = next(csvreader)\n",
    "    name_to_position={header[position]: position for position in range(len(header))}\n",
    "    for line in csvreader:\n",
    "        session_id = int(line[name_to_position['sessionId']])\n",
    "        user_id = int(line[name_to_position['userId']])\n",
    "        artist = line[name_to_position['artist']]\n",
    "        song = line[name_to_position['song']]\n",
    "        first_name = line[name_to_position['firstName']]\n",
    "        last_name = line[name_to_position['lastName']]                  \n",
    "        item_in_session = int(line[name_to_position['itemInSession']])\n",
    "        values = (session_id, user_id, artist, song, first_name, last_name, item_in_session)\n",
    "        session.execute(user_session_insert, values)"
   ]
  },
  {
   "cell_type": "markdown",
   "metadata": {
    "editable": true
   },
   "source": [
    "#### query step"
   ]
  },
  {
   "cell_type": "code",
   "execution_count": 12,
   "metadata": {
    "editable": true
   },
   "outputs": [
    {
     "name": "stdout",
     "output_type": "stream",
     "text": [
      "Down To The Bone Keep On Keepin' On Sylvie Cruz\n",
      "Three Drives Greece 2000 Sylvie Cruz\n",
      "Sebastien Tellier Kilometer Sylvie Cruz\n",
      "Lonnie Gordon Catch You Baby (Steve Pitron & Max Sanna Radio Edit) Sylvie Cruz\n"
     ]
    }
   ],
   "source": [
    "query = \"\"\"SELECT artist, song, firstName, lastName FROM user_session WHERE userId = 10 AND sessionId = 182\"\"\"\n",
    "\n",
    "try:\n",
    "    rows = session.execute(query)\n",
    "except Exception as e:\n",
    "    print(e)\n",
    "    \n",
    "for row in rows:\n",
    "    print(row.artist, row.song, row.firstname, row.lastname )"
   ]
  },
  {
   "cell_type": "markdown",
   "metadata": {
    "editable": true
   },
   "source": [
    "#### check insertion step"
   ]
  },
  {
   "cell_type": "code",
   "execution_count": 13,
   "metadata": {
    "editable": true
   },
   "outputs": [
    {
     "name": "stdout",
     "output_type": "stream",
     "text": [
      "session_item number of rows: 6820\n"
     ]
    }
   ],
   "source": [
    "user_session_count = \"SELECT COUNT(*) FROM user_session\"\n",
    "try:\n",
    "    result = session.execute(user_session_count)\n",
    "    print(\"session_item number of rows:\", result[0].count)\n",
    "except Exception as e:\n",
    "    print(e)\n"
   ]
  },
  {
   "cell_type": "markdown",
   "metadata": {
    "editable": true
   },
   "source": [
    "## QUERY 3\n",
    "`\n",
    "Query Description: In this query, I used song as the partition key and userId as my clustering key. Each partition is uniquely identified by song while userId was used to uniquely identify the rows within a partition.\n",
    "`\n",
    "\n",
    "`Example: Give me every user name (first and last) in my music app history who listened to the song 'All Hands Against His Own`"
   ]
  },
  {
   "cell_type": "markdown",
   "metadata": {
    "editable": true
   },
   "source": [
    "#### preparing data step"
   ]
  },
  {
   "cell_type": "code",
   "execution_count": 14,
   "metadata": {
    "editable": true
   },
   "outputs": [],
   "source": [
    "song_user_table_drop = \"DROP TABLE IF EXISTS song_user\"\n",
    "song_user_table_create = \"\"\"CREATE TABLE IF NOT EXISTS song_user(\n",
    "                               song text, \n",
    "                               userId int,                               \n",
    "                               firstName text,\n",
    "                               lastName text,\n",
    "                               PRIMARY KEY (song, userId))\"\"\"\n",
    "try:\n",
    "    session.execute(song_user_table_drop)\n",
    "    session.execute(song_user_table_create)\n",
    "except Exception as e:\n",
    "    print(e)\n",
    "\n",
    "\n",
    "# load data\n",
    "song_user_insert = \"INSERT INTO song_user(song, userId, firstName, lastName) VALUES (%s, %s, %s, %s)\"\n",
    "\n",
    "file = 'event_datafile_new.csv'\n",
    "with open(file, encoding = 'utf8') as f:\n",
    "    csvreader = csv.reader(f)\n",
    "    header = next(csvreader)\n",
    "    name_to_position={header[position]: position for position in range(len(header))}\n",
    "    for line in csvreader:\n",
    "        song = line[name_to_position['song']]\n",
    "        user_id = int(line[name_to_position['userId']])\n",
    "        first_name = line[name_to_position['firstName']]\n",
    "        last_name = line[name_to_position['lastName']]                  \n",
    "        values = (song, user_id, first_name, last_name)\n",
    "        session.execute(song_user_insert, values)\n",
    "                    "
   ]
  },
  {
   "cell_type": "markdown",
   "metadata": {
    "editable": true
   },
   "source": [
    "#### query step"
   ]
  },
  {
   "cell_type": "code",
   "execution_count": 15,
   "metadata": {
    "editable": true
   },
   "outputs": [
    {
     "name": "stdout",
     "output_type": "stream",
     "text": [
      "Jacqueline Lynch\n",
      "Tegan Levine\n",
      "Sara Johnson\n"
     ]
    }
   ],
   "source": [
    "query = \"\"\"SELECT firstName, lastName FROM song_user WHERE song = 'All Hands Against His Own'\"\"\"\n",
    "\n",
    "try:\n",
    "    rows = session.execute(query)\n",
    "except Exception as e:\n",
    "    print(e)\n",
    "    \n",
    "for row in rows:\n",
    "    print( row.firstname, row.lastname )"
   ]
  },
  {
   "cell_type": "markdown",
   "metadata": {
    "editable": true
   },
   "source": [
    "#### check insertion step"
   ]
  },
  {
   "cell_type": "code",
   "execution_count": 16,
   "metadata": {
    "editable": true
   },
   "outputs": [
    {
     "name": "stdout",
     "output_type": "stream",
     "text": [
      "session_item number of rows: 6618\n"
     ]
    }
   ],
   "source": [
    "user_session_count = \"SELECT COUNT(*) FROM song_user\"\n",
    "try:\n",
    "    result = session.execute(user_session_count)\n",
    "    print(\"session_item number of rows:\", result[0].count)\n",
    "except Exception as e:\n",
    "    print(e)"
   ]
  },
  {
   "cell_type": "markdown",
   "metadata": {
    "editable": true
   },
   "source": [
    "### Drop the tables before closing out the sessions"
   ]
  },
  {
   "cell_type": "code",
   "execution_count": 17,
   "metadata": {
    "editable": true
   },
   "outputs": [],
   "source": [
    "\n",
    "try:\n",
    "    session.execute(session_item_table_drop)\n",
    "    session.execute(user_session_table_drop)\n",
    "    session.execute(song_user_table_drop)\n",
    "except Exception as e:\n",
    "    print(e)"
   ]
  },
  {
   "cell_type": "markdown",
   "metadata": {
    "editable": true
   },
   "source": [
    "### Close the session and cluster connection¶"
   ]
  },
  {
   "cell_type": "code",
   "execution_count": 18,
   "metadata": {
    "editable": true
   },
   "outputs": [],
   "source": [
    "session.shutdown()\n",
    "cluster.shutdown()"
   ]
  },
  {
   "cell_type": "code",
   "execution_count": null,
   "metadata": {
    "editable": true
   },
   "outputs": [],
   "source": []
  }
 ],
 "metadata": {
  "kernelspec": {
   "display_name": "Python 3",
   "language": "python",
   "name": "python3"
  },
  "language_info": {
   "codemirror_mode": {
    "name": "ipython",
    "version": 3
   },
   "file_extension": ".py",
   "mimetype": "text/x-python",
   "name": "python",
   "nbconvert_exporter": "python",
   "pygments_lexer": "ipython3",
   "version": "3.6.3"
  }
 },
 "nbformat": 4,
 "nbformat_minor": 4
}
